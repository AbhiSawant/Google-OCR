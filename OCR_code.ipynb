{
  "nbformat": 4,
  "nbformat_minor": 0,
  "metadata": {
    "colab": {
      "name": "OCR_final.ipynb",
      "provenance": [],
      "collapsed_sections": []
    },
    "kernelspec": {
      "name": "python3",
      "display_name": "Python 3"
    },
    "language_info": {
      "name": "python"
    }
  },
  "cells": [
    {
      "cell_type": "code",
      "metadata": {
        "id": "6h6DCIvi5xPl"
      },
      "source": [
        "# ! pip install google-cloud-vision"
      ],
      "execution_count": null,
      "outputs": []
    },
    {
      "cell_type": "code",
      "metadata": {
        "id": "uxy-0i7X5xfu"
      },
      "source": [
        "import cv2\n",
        "import imutils\n",
        "import json\n",
        "import matplotlib.pyplot as plt\n",
        "import numpy as np\n",
        "import os\n",
        "import pandas as pd\n",
        "import requests\n",
        "import time\n",
        "from base64 import b64encode\n",
        "from IPython.display import Image\n",
        "from pylab import rcParams\n",
        "import io\n",
        "\n",
        "from google.cloud import vision\n",
        "import proto"
      ],
      "execution_count": null,
      "outputs": []
    },
    {
      "cell_type": "code",
      "metadata": {
        "id": "gc1l4FMt5xh8"
      },
      "source": [
        "os.environ[\"GOOGLE_APPLICATION_CREDENTIALS\"]=\"your credentials in json\""
      ],
      "execution_count": null,
      "outputs": []
    },
    {
      "cell_type": "code",
      "metadata": {
        "id": "evM6NC2V7e4y"
      },
      "source": [
        "os.chdir('/content/WARD8/')"
      ],
      "execution_count": null,
      "outputs": []
    },
    {
      "cell_type": "code",
      "metadata": {
        "id": "kBqbd01hAZyO"
      },
      "source": [
        "def generate_code(file_name):\n",
        "  image_uri = f\"{file_name}.jpg\"\n",
        "  output_file = f\"{file_name}.xlsx\"\n",
        "\n",
        "  client = vision.ImageAnnotatorClient()\n",
        "  image = vision.Image()\n",
        "  image.source.image_uri = image_uri\n",
        "\n",
        "  client = vision.ImageAnnotatorClient()\n",
        "\n",
        "  # The name of the image file to annotate\n",
        "  file_name = os.path.abspath(image_uri)\n",
        "\n",
        "  # Loads the image into memory\n",
        "  with io.open(file_name, 'rb') as image_file:\n",
        "      content = image_file.read()\n",
        "\n",
        "  image = vision.Image(content=content)\n",
        "  response = client.text_detection(image=image)\n",
        "  texts = proto.Message.to_json(response)\n",
        "  mydict = json.loads(texts)\n",
        "\n",
        "  data = mydict['fullTextAnnotation']['text'].split('\\n')[8:]\n",
        "\n",
        "  name = []\n",
        "  father_name = []\n",
        "  # husband_name = []\n",
        "  household_count = []\n",
        "  age = []\n",
        "  gender = []\n",
        "\n",
        "  for i in data[:-4]:\n",
        "    i = i.replace(\"|\", \"\")\n",
        "    i = i.replace(\"Photo is\", \"\")\n",
        "    i = i.replace(\"Available\", \"\")\n",
        "    if \":\" in i:\n",
        "      if i.count(\":\") < 2:\n",
        "        if \"निर्वाचक का नाम\" in i.split(\":\")[0].strip():\n",
        "          name.append(i.split(\":\")[1].strip())\n",
        "        elif \"पिता का नाम\" in i.split(\":\")[0].strip() :\n",
        "          father_name.append(i.split(\":\")[1].strip())   \n",
        "          # husband_name.append(\"NA\")  \n",
        "        elif \"माता का नाम\" in i.split(\":\")[0].strip() :\n",
        "          father_name.append(i.split(\":\")[1].strip())   \n",
        "          # husband_name.append(\"NA\")  \n",
        "        elif \"पति का नाम\" in i.split(\":\")[0].strip():\n",
        "          father_name.append(i.split(\":\")[1].strip())  \n",
        "          # father_name.append(\"NA\")  \n",
        "        elif \"अन्य का नाम\" in i.split(\":\")[0].strip():\n",
        "          father_name.append(i.split(\":\")[1].strip())  \n",
        "          # father_name.append(\"NA\")  \n",
        "\n",
        "    \n",
        "        elif \"गृह संख्या\" in i.split(\":\")[0].strip():\n",
        "          household_count.append(i.split(\":\")[1].strip())   \n",
        "        elif \"उम्र\" in i.split(\":\")[0].strip():\n",
        "          age.append(i.split(\":\")[1].strip())  \n",
        "        elif \"लिंग\" in i.split(\":\")[0].strip():\n",
        "          gender.append(i.split(\":\")[1].strip())             \n",
        "        # print(\"\")\n",
        "      \n",
        "  print(len(name))\n",
        "  print(len(father_name)) \n",
        "  # print(len(husband_name)) \n",
        "  print(len(household_count))\n",
        "  print(len(age))\n",
        "  print(len(gender))\n",
        "\n",
        "  new_df = pd.DataFrame({'Name': name,\n",
        "                       \"father/mother/husband\": father_name,\n",
        "                      #  \"husband_name\": husband_name,\n",
        "                       \"household_count\": household_count,\n",
        "                       \"age\": age,\n",
        "                       \"gender\": gender})\n",
        "  \n",
        "  new_df['Ward No.'] = 8\n",
        "  output_file = f\"{file_name}.xlsx\"\n",
        "  new_df.to_excel(output_file, index=False)\n",
        "\n",
        "  return new_df"
      ],
      "execution_count": null,
      "outputs": []
    },
    {
      "cell_type": "code",
      "metadata": {
        "id": "rt19su4XHuZM"
      },
      "source": [
        "for filenames in os.listdir():\n",
        "  if \"WARD\" in filenames:\n",
        "    fname = filenames.split(\".\")[0]\n",
        "    print(fname)\n",
        "    new_df = generate_code(fname)"
      ],
      "execution_count": null,
      "outputs": []
    },
    {
      "cell_type": "code",
      "metadata": {
        "id": "2tSanXJt_8ty"
      },
      "source": [
        ""
      ],
      "execution_count": null,
      "outputs": []
    }
  ]
}